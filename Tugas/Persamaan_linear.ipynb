{
  "nbformat": 4,
  "nbformat_minor": 0,
  "metadata": {
    "colab": {
      "provenance": []
    },
    "kernelspec": {
      "name": "python3",
      "display_name": "Python 3"
    },
    "language_info": {
      "name": "python"
    }
  },
  "cells": [
    {
      "cell_type": "markdown",
      "source": [
        "# persamaan linear 3 variabel"
      ],
      "metadata": {
        "id": "o3nCqkoyHmQ8"
      }
    },
    {
      "cell_type": "markdown",
      "source": [
        "Persamaan linear adalah persamaan yang menyatakan hubungan antara variabel dan konstanta umumnya ada beberapa jenis persamaan linear yakni,\n",
        "\n",
        "1. persamaan satu variabel\n",
        "\n",
        "seperti namanya persamaan linear satu variabel hanya memiliki satu variabel dengan pangkat 1 dalam bentuk kalimat terbuka dan dapat dihubungkan dengan tanda =.\n",
        "contoh\n",
        "\n",
        "ax + b = 0\n",
        "\n",
        "ket\n",
        "\n",
        "a = koefisien\n",
        "\n",
        "b = konstanta\n",
        "\n",
        "x = variabel\n",
        "\n",
        "2. persamaan dua variable\n",
        "\n",
        "seperti halnya namanya persamaan ini memiliki 2 variabel yang berpangkat 1,persamaan 2 variabel biasanya menggunakan relasi = dan tidak akan menggunakan perkalian variabel pada setiap persamaan.\n",
        "\n",
        "contoh = ax + by = c\n",
        "\n",
        "3. persamaan 3 variabel\n",
        "\n",
        ", Secara mudahnya persamaan linear tiga variabel ini adalah bentuk perluasan dari persamaan linier dua variabel.untuk menyelesaikan persamaan linear 3 variabel ini bisa di lakukan dengan 2 cara yaknii metode subtitusi dan metode eliminasi.\n",
        "\n",
        "ax + by + cz = d"
      ],
      "metadata": {
        "id": "JWJqmtSsH0yK"
      }
    },
    {
      "cell_type": "markdown",
      "source": [
        "contoh soal\n",
        "\n",
        "$$\n",
        "8x_1 + 9x_2 + x_3 = 19\\\\\n",
        "x_1 + 2x_2 + 3x_3 = 9\\\\\n",
        "2x_1 + x_2 + x_3 = 5\n",
        "$$\n"
      ],
      "metadata": {
        "id": "UprEVec2Hvz6"
      }
    },
    {
      "cell_type": "markdown",
      "source": [
        "merubahnya menjadi bentuk matriks\n",
        "\\begin{bmatrix}\n",
        "8 & 9 & 1 & 19\\\\\n",
        "1 & 2 & 3 & 9\\\\\n",
        "2 & 1 & 1 & 5\n",
        "\\end{bmatrix}"
      ],
      "metadata": {
        "id": "VgUWSfVtNpIU"
      }
    },
    {
      "cell_type": "code",
      "execution_count": null,
      "metadata": {
        "colab": {
          "base_uri": "https://localhost:8080/"
        },
        "id": "qZ0n8I6DDlxN",
        "outputId": "399e91e3-963e-486a-a891-7b0b33247d36"
      },
      "outputs": [
        {
          "output_type": "stream",
          "name": "stdout",
          "text": [
            "[[ 8  9  1 19]\n",
            " [ 1  2  3  9]\n",
            " [ 2  1  1  5]]\n"
          ]
        }
      ],
      "source": [
        "import numpy as np\n",
        "A=np.array([[8,9,1,19],[1,2,3,9],[2,1,1,5]])\n",
        "print(A)"
      ]
    },
    {
      "cell_type": "code",
      "source": [
        "def RowSwap(A,k,l):\n",
        "# =============================================================================\n",
        "#     A is a NumPy array.  RowSwap will return duplicate array with rows\n",
        "#     k and l swapped.\n",
        "# =============================================================================\n",
        "    m = A.shape[0]  # m is number of rows in A\n",
        "    n = A.shape[1]  # n is number of columns in A\n",
        "\n",
        "    B = np.copy(A).astype('float64')\n",
        "\n",
        "    for j in range(n):\n",
        "        temp = B[k][j]\n",
        "        B[k][j] = B[l][j]\n",
        "        B[l][j] = temp\n",
        "\n",
        "    return B\n",
        "\n",
        "def RowScale(A,k,scale):\n",
        "# =============================================================================\n",
        "#     A is a NumPy array.  RowScale will return duplicate array with the\n",
        "#     entries of row k multiplied by scale.\n",
        "# =============================================================================\n",
        "    m = A.shape[0]  # m is number of rows in A\n",
        "    n = A.shape[1]  # n is number of columns in A\n",
        "\n",
        "    B = np.copy(A).astype('float64')\n",
        "\n",
        "    for j in range(n):\n",
        "        B[k][j] *= scale\n",
        "\n",
        "    return B\n",
        "\n",
        "def RowAdd(A,k,l,scale):\n",
        "# =============================================================================\n",
        "#     A is a numpy array.  RowAdd will return duplicate array with row\n",
        "#     l modifed.  The new values will be the old values of row l added to\n",
        "#     the values of row k, multiplied by scale.\n",
        "# =============================================================================\n",
        "    m = A.shape[0]  # m is number of rows in A\n",
        "    n = A.shape[1]  # n is number of columns in A\n",
        "\n",
        "    B = np.copy(A).astype('float64')\n",
        "\n",
        "    for j in range(n):\n",
        "        B[l][j] += B[k][j]*scale\n",
        "\n",
        "    return B\n"
      ],
      "metadata": {
        "id": "QcBUPLRfLXM4"
      },
      "execution_count": null,
      "outputs": []
    },
    {
      "cell_type": "markdown",
      "source": [
        "setelah di rubah maka matriks akan di rubah agar diagonal pada matriks menjadi 1"
      ],
      "metadata": {
        "id": "jbprIcuLOAye"
      }
    },
    {
      "cell_type": "code",
      "execution_count": null,
      "metadata": {
        "colab": {
          "base_uri": "https://localhost:8080/"
        },
        "outputId": "399e91e3-963e-486a-a891-7b0b33247d36",
        "id": "SQsiLBqBOdGL"
      },
      "outputs": [
        {
          "output_type": "stream",
          "name": "stdout",
          "text": [
            "[[ 8  9  1 19]\n",
            " [ 1  2  3  9]\n",
            " [ 2  1  1  5]]\n"
          ]
        }
      ],
      "source": [
        "import numpy as np\n",
        "A=np.array([[8,9,1,19],[1,2,3,9],[2,1,1,5]])\n",
        "print(A)"
      ]
    },
    {
      "cell_type": "code",
      "source": [
        "# menggunakan RowSwap untuk menukar posisi baris 0 dan 1\n",
        "A1 = RowSwap(A,0,1)\n",
        "print(A1)"
      ],
      "metadata": {
        "colab": {
          "base_uri": "https://localhost:8080/"
        },
        "id": "U5GWQlL5MHYq",
        "outputId": "db4e7b84-5d97-4e1c-d104-56081e81f2ab"
      },
      "execution_count": null,
      "outputs": [
        {
          "output_type": "stream",
          "name": "stdout",
          "text": [
            "[[ 1.  2.  3.  9.]\n",
            " [ 8.  9.  1. 19.]\n",
            " [ 2.  1.  1.  5.]]\n"
          ]
        }
      ]
    },
    {
      "cell_type": "code",
      "source": [
        "# merubah bilangan pada baris ke 1 kolom 0 menjadi 0\n",
        "# yakni dengan cara RowAdd\n",
        "# menambahkan baris ke 0 dengan baris ke 1 dan sebelum menambahkan dikalikan dengan -8\n",
        "A2 = RowAdd(A1,0,1,-8)\n",
        "print(A2)"
      ],
      "metadata": {
        "colab": {
          "base_uri": "https://localhost:8080/"
        },
        "id": "HT4TQiBONTht",
        "outputId": "baba76a7-1ee1-417f-fb66-44a5d6dd611d"
      },
      "execution_count": null,
      "outputs": [
        {
          "output_type": "stream",
          "name": "stdout",
          "text": [
            "[[  1.   2.   3.   9.]\n",
            " [  0.  -7. -23. -53.]\n",
            " [  2.   1.   1.   5.]]\n"
          ]
        }
      ]
    },
    {
      "cell_type": "code",
      "source": [
        "# merubah bilangan pada baris ke 2 kolom ke 0 menjadi 0\n",
        "# yakni dengan cara RowAdd\n",
        "# menambahkan baris ke 0 dengan baris ke 2 dan sebelum menambahkan dikalikan dengan -2\n",
        "A3 = RowAdd(A2,0,2,-2)\n",
        "print(A3)"
      ],
      "metadata": {
        "colab": {
          "base_uri": "https://localhost:8080/"
        },
        "id": "hGD_ODigN0oW",
        "outputId": "c02ad3fc-c597-46ca-a1bc-6969452356c3"
      },
      "execution_count": null,
      "outputs": [
        {
          "output_type": "stream",
          "name": "stdout",
          "text": [
            "[[  1.   2.   3.   9.]\n",
            " [  0.  -7. -23. -53.]\n",
            " [  0.  -3.  -5. -13.]]\n"
          ]
        }
      ]
    },
    {
      "cell_type": "code",
      "source": [
        "# merubah bilangan pada baris ke 1 kolom ke 1 menjadi 1\n",
        "# dengan cara RowScale\n",
        "# mengalikan baris pertama dengan -1/7\n",
        "A4 = RowScale(A3,1,-1/7)\n",
        "print(A4)"
      ],
      "metadata": {
        "colab": {
          "base_uri": "https://localhost:8080/"
        },
        "id": "S8CGEUiHORoL",
        "outputId": "4685765c-e650-450e-c2c6-07d3fd6153b6"
      },
      "execution_count": null,
      "outputs": [
        {
          "output_type": "stream",
          "name": "stdout",
          "text": [
            "[[  1.           2.           3.           9.        ]\n",
            " [ -0.           1.           3.28571429   7.57142857]\n",
            " [  0.          -3.          -5.         -13.        ]]\n"
          ]
        }
      ]
    },
    {
      "cell_type": "code",
      "source": [
        "# merubah bilangan pada baris ke 2 kolom ke 1 menjadi 0\n",
        "# yakni dengan cara RowAdd\n",
        "# menambahkan baris ke 1 dengan baris ke 2 dan sebelum menambahkan dikalikan dengan 3\n",
        "A5 = RowAdd(A4,1,2,3)\n",
        "print(A5)"
      ],
      "metadata": {
        "colab": {
          "base_uri": "https://localhost:8080/"
        },
        "id": "k595XDtnO02z",
        "outputId": "a840052b-1d67-41ab-fc8c-4706654d5286"
      },
      "execution_count": null,
      "outputs": [
        {
          "output_type": "stream",
          "name": "stdout",
          "text": [
            "[[ 1.          2.          3.          9.        ]\n",
            " [-0.          1.          3.28571429  7.57142857]\n",
            " [ 0.          0.          4.85714286  9.71428571]]\n"
          ]
        }
      ]
    },
    {
      "cell_type": "code",
      "source": [
        "# merubah bilangan pada baris ke 2 kolom ke 3 menjadi 1\n",
        "# dengan cara RowScale\n",
        "# mengalikan baris ke 2 dengan 1/4.85714286\n",
        "A6 = RowScale(A5,2,1/4.85714286)\n",
        "print(A6)"
      ],
      "metadata": {
        "colab": {
          "base_uri": "https://localhost:8080/"
        },
        "id": "7zKYbmf8PRCO",
        "outputId": "1062c359-cf89-4242-c245-ab74c5a135a5"
      },
      "execution_count": null,
      "outputs": [
        {
          "output_type": "stream",
          "name": "stdout",
          "text": [
            "[[ 1.          2.          3.          9.        ]\n",
            " [-0.          1.          3.28571429  7.57142857]\n",
            " [ 0.          0.          1.          2.        ]]\n"
          ]
        }
      ]
    },
    {
      "cell_type": "markdown",
      "source": [
        "persamaannya adalah\n",
        "$$\n",
        "x_1+2x_2+3x_3=9\\\\\n",
        "x_2+3.28571429x_3=7.57142857\\\\\n",
        "x_3=2\\\\\n",
        "$$"
      ],
      "metadata": {
        "id": "3_NMyCDHPrNN"
      }
    },
    {
      "cell_type": "markdown",
      "source": [
        "setelah menjadi diagonal dg angka 1 maka di kembalikan menjadi persamaan setelah itu tentukan$$x_1,x_2,x_3$$"
      ],
      "metadata": {
        "id": "nzaunipdSSdN"
      }
    },
    {
      "cell_type": "code",
      "source": [
        "x3 = 2\n",
        "print('x3 =',x3)\n",
        "x2=7.57142857 - (3.28571429*x3)\n",
        "print('x2 =',round(x2))\n",
        "x1=9 - 2*x2 - 3 *x3\n",
        "print('x1 =',round(x1))"
      ],
      "metadata": {
        "colab": {
          "base_uri": "https://localhost:8080/"
        },
        "id": "0K9eVf2FPp41",
        "outputId": "671fe027-27fc-4519-b9cd-afb533080568"
      },
      "execution_count": null,
      "outputs": [
        {
          "output_type": "stream",
          "name": "stdout",
          "text": [
            "x3 = 2\n",
            "x2 = 1\n",
            "x1 = 1\n"
          ]
        }
      ]
    }
  ]
}