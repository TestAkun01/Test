{
  "cells": [
    {
      "cell_type": "markdown",
      "metadata": {
        "id": "bri2tKf0mL8z"
      },
      "source": [
        "# Matriks Invers\n",
        "Matriks invers adalah matriks yang mengalikan matriks lain menghasilkan matriks identitas. Matriks identitas adalah matriks bujur sangkar dengan elemen diagonal utama sama dengan 1 dan elemen lainnya sama dengan 0.\n",
        "Notasi:\n",
        "\n",
        "Matriks invers dari matriks A dinotasikan dengan A^-1.\n",
        "\n",
        "Syarat Memiliki Invers:\n",
        "\n",
        "Tidak semua matriks memiliki invers. Suatu matriks A memiliki invers jika dan hanya jika determinannya (det(A)) tidak sama dengan 0.\n",
        "\n",
        "#metode untuk mencari invers matriks, di antaranya:\n",
        "\n",
        "## Metode Gauss-Jordan: Metode ini melibatkan operasi baris pada matriks A dan matriks identitas untuk menghasilkan matriks invers A^-1.\n",
        "\n",
        "1. diberikan sebuah matrix sistem persamaan linear tiga variabel\n",
        "\n",
        "\\begin{align*}\n",
        "    1x_1 + 2x_2 - 2x_3 &= -3\\\\\n",
        "    1x_1 + 1x_2 + 1x_3 &= 5\\\\\n",
        "    0x_1 + 0x_2  + 1x_3 &= 3\n",
        "\\end{align*}\n",
        "2. ubah menjadi matrix $Ab$\n",
        "\n",
        "\\begin{bmatrix}\n",
        "1 & 2 & -1\\\\\n",
        "1 & 1 & -1\\\\\n",
        "0 & 0 & 1\n",
        "\\end{bmatrix}\n",
        "\n",
        "\\begin{bmatrix}\n",
        "-3\\\\\n",
        "5\\\\\n",
        "3\n",
        "\\end{bmatrix}\n",
        "\n",
        "2. Bentuklah matriks yang diperbesar dengan matriks identitas $AI$.\n",
        "\n",
        "\\begin{bmatrix}\n",
        "1 & 2 & -1 & 1 & 0 & 0\\\\\n",
        "1 & 1 & -1 & 0 & 1 & 0\\\\\n",
        "0 & 0 & 1 & 0 & 0 & 1\n",
        "\\end{bmatrix}\n",
        "3. Lakukan operasi reduksi baris pada matriks yang diperbesar ini untuk menghasilkan bentuk $ IA^{-1}$"
      ]
    },
    {
      "cell_type": "code",
      "execution_count": null,
      "metadata": {
        "id": "azcqr2oGmHl7"
      },
      "outputs": [],
      "source": [
        "# import library numpy\n",
        "import numpy as np\n",
        "\n",
        "def RowSwap(A,k,l):\n",
        "# =============================================================================\n",
        "#     A adalah sebuah NumPy array.  RowSwap akan menghasilkan duplicate dari\n",
        "#     array dengan baris k dan l di tukar\n",
        "# =============================================================================\n",
        "    m = A.shape[0]  # m adalah nomor baris di A\n",
        "    n = A.shape[1]  # n adalah nomor kolom di A\n",
        "\n",
        "    B = np.copy(A).astype('float64')\n",
        "\n",
        "    for j in range(n):\n",
        "        temp = B[k][j]\n",
        "        B[k][j] = B[l][j]\n",
        "        B[l][j] = temp\n",
        "\n",
        "    return B\n",
        "\n",
        "def RowScale(A,k,scale):\n",
        "# =============================================================================\n",
        "#     A adalah sebuah NumPy array.  RowScale akan menghasilkan duplicate dari\n",
        "#     array dengan baris k di kali dengan skalar bukan 0\n",
        "# =============================================================================\n",
        "    m = A.shape[0]  # m adalah nomor baris di A\n",
        "    n = A.shape[1]  # n adalah nomor kolom di A\n",
        "\n",
        "    B = np.copy(A).astype('float64')\n",
        "\n",
        "    for j in range(n):\n",
        "        B[k][j] *= scale\n",
        "\n",
        "    return B\n",
        "\n",
        "def RowAdd(A,k,l,scale):\n",
        "# =============================================================================\n",
        "#     A adalah sebuah NumPy array.  RowAdd akan menghasilkan duplicate dari\n",
        "#     array dengan baris k akan di kali dengan 'scale' bukan 0. lalu nilai\n",
        "#     baris l akan di tambah dengan nilai baris k yang sudah dikalikan\n",
        "# =============================================================================\n",
        "    m = A.shape[0]  # m adalah nomor baris di A\n",
        "    n = A.shape[1]  # n adalah nomor kolom di A\n",
        "\n",
        "    B = np.copy(A).astype('float64')\n",
        "\n",
        "    for j in range(n):\n",
        "        B[l][j] += B[k][j]*scale\n",
        "\n",
        "    return B"
      ]
    },
    {
      "cell_type": "code",
      "execution_count": null,
      "metadata": {
        "colab": {
          "base_uri": "https://localhost:8080/"
        },
        "id": "z0w9I9ZKn7sV",
        "outputId": "a30dd846-8fa4-4fa5-be40-127f3c12d7ed"
      },
      "outputs": [
        {
          "name": "stdout",
          "output_type": "stream",
          "text": [
            "[[ 1  2 -2  1  0  0]\n",
            " [ 1  1  1  0  1  0]\n",
            " [ 0  0  1  0  0  1]] \n",
            "\n",
            "[[ 1.  2. -2.  1.  0.  0.]\n",
            " [ 0. -1.  3. -1.  1.  0.]\n",
            " [ 0.  0.  1.  0.  0.  1.]] \n",
            "\n",
            "[[ 1.  2. -2.  1.  0.  0.]\n",
            " [-0.  1. -3.  1. -1. -0.]\n",
            " [ 0.  0.  1.  0.  0.  1.]] \n",
            "\n",
            "[[ 1.  0.  4. -1.  2.  0.]\n",
            " [-0.  1. -3.  1. -1. -0.]\n",
            " [ 0.  0.  1.  0.  0.  1.]] \n",
            "\n",
            "[[ 1.  0.  4. -1.  2.  0.]\n",
            " [ 0.  1.  0.  1. -1.  3.]\n",
            " [ 0.  0.  1.  0.  0.  1.]] \n",
            "\n",
            "[[ 1.  0.  0. -1.  2. -4.]\n",
            " [ 0.  1.  0.  1. -1.  3.]\n",
            " [ 0.  0.  1.  0.  0.  1.]] \n",
            "\n"
          ]
        }
      ],
      "source": [
        "AI = np.array([[1,2,-2,1,0,0],[1,1,1,0,1,0],[0,0,1,0,0,1]])\n",
        "print(AI,\"\\n\")\n",
        "\n",
        "AI1 = RowAdd(AI,0,1,-1)\n",
        "print(AI1,\"\\n\")\n",
        "\n",
        "AI2 = RowScale(AI1,1,-1)\n",
        "print(AI2,\"\\n\")\n",
        "\n",
        "AI3 = RowAdd(AI2,1,0,-2)\n",
        "print(AI3,\"\\n\")\n",
        "\n",
        "AI4 = RowAdd(AI3,2,1,3)\n",
        "print(AI4,\"\\n\")\n",
        "\n",
        "AI5 = RowAdd(AI4,2,0,-4)\n",
        "print(AI5,\"\\n\")"
      ]
    },
    {
      "cell_type": "markdown",
      "metadata": {
        "id": "OEC4-SRZL5JO"
      },
      "source": [
        "4. dari operasi di atas di dapat $IA^{-1} $\n",
        "\\begin{bmatrix}\n",
        "1 & 0 & 0 &-1 & 2 & -4\\\\\n",
        "0 & 1 & 0 & 1 & -1 & 3\\\\\n",
        "0 & 0 & 1 & 0 & 0 & 1\n",
        "\\end{bmatrix}\n",
        "\n",
        "maka $ A^{-1} $\n",
        "\n",
        "\\begin{bmatrix}\n",
        "-1 & 2 & -4\\\\\n",
        "1 & -1 & 3\\\\\n",
        "0 & 0 & 1\n",
        "\\end{bmatrix}\n",
        "\n",
        "5. cek apakah $AA^{-1}=I$"
      ]
    },
    {
      "cell_type": "code",
      "execution_count": null,
      "metadata": {
        "colab": {
          "base_uri": "https://localhost:8080/"
        },
        "id": "du1qTr8VL7ow",
        "outputId": "e064a7ca-bb7a-416b-be85-79928e0355c6"
      },
      "outputs": [
        {
          "name": "stdout",
          "output_type": "stream",
          "text": [
            "[[1 0 0]\n",
            " [0 1 0]\n",
            " [0 0 1]]\n"
          ]
        }
      ],
      "source": [
        "A = np.array([[1,2,-2],[1,1,1],[0,0,1]])\n",
        "AI6 = np.array([[-1,2,-4],[1,-1,3],[0,0,1]])\n",
        "A_I = np.dot(A,AI6)\n",
        "print(A_I)"
      ]
    },
    {
      "cell_type": "code",
      "execution_count": null,
      "metadata": {
        "colab": {
          "base_uri": "https://localhost:8080/"
        },
        "id": "L0SgYOp0MEdR",
        "outputId": "d67e8cae-284a-46ad-bda9-e3638f89929b"
      },
      "outputs": [
        {
          "name": "stdout",
          "output_type": "stream",
          "text": [
            "[[-3]\n",
            " [ 5]\n",
            " [ 3]]\n",
            "[[1]\n",
            " [1]\n",
            " [3]]\n"
          ]
        }
      ],
      "source": [
        "b = np.array([[-3],[5], [3]])\n",
        "print(b)\n",
        "x = np.dot(AI6,b)\n",
        "print(x)"
      ]
    },
    {
      "cell_type": "markdown",
      "metadata": {
        "id": "IUDQLJcXp_AX"
      },
      "source": [
        "1. diberikan sebuah matrix sistem persamaan linear 4 variabel\n",
        "\n",
        "\\begin{align*}\n",
        "    1x_1 + 2x_2 + 2x_3 + 4x_4&= -3\\\\\n",
        "    0x_1 + 1x_2 + 1x_3 + 3x_4&= 6\\\\\n",
        "    0x_1 + 0x_2  + 1x_3 + 2x_4&= 7\\\\\n",
        "    2x_1 + x_2 + 4x_3 + 1x_4 =6\n",
        "\\end{align*}\n",
        "\n",
        "2. ubah menjadi matrix $Ab$\n",
        "\n",
        "\\begin{bmatrix}\n",
        "1 & 2 & 2 & 4\\\\\n",
        "0 & 1 & 1 &3\\\\\n",
        "0 & 0 & 1 & 2\\\\\n",
        "2 & 1 & 4 & 1\n",
        "\\end{bmatrix}\n",
        "\n",
        "\\begin{bmatrix}\n",
        "-3\\\\\n",
        "6\\\\\n",
        "7\\\\\n",
        "6\n",
        "\\end{bmatrix}"
      ]
    },
    {
      "cell_type": "code",
      "execution_count": null,
      "metadata": {
        "id": "CP2eWJE-WVuQ"
      },
      "outputs": [],
      "source": [
        "# import library numpy\n",
        "import numpy as np\n",
        "\n",
        "def RowSwap(A,k,l):\n",
        "# =============================================================================\n",
        "#     A adalah sebuah NumPy array.  RowSwap akan menghasilkan duplicate dari\n",
        "#     array dengan baris k dan l di tukar\n",
        "# =============================================================================\n",
        "    m = A.shape[0]  # m adalah nomor baris di A\n",
        "    n = A.shape[1]  # n adalah nomor kolom di A\n",
        "\n",
        "    B = np.copy(A).astype('float64')\n",
        "\n",
        "    for j in range(n):\n",
        "        temp = B[k][j]\n",
        "        B[k][j] = B[l][j]\n",
        "        B[l][j] = temp\n",
        "\n",
        "    return B\n",
        "\n",
        "def RowScale(A,k,scale):\n",
        "# =============================================================================\n",
        "#     A adalah sebuah NumPy array.  RowScale akan menghasilkan duplicate dari\n",
        "#     array dengan baris k di kali dengan skalar bukan 0\n",
        "# =============================================================================\n",
        "    m = A.shape[0]  # m adalah nomor baris di A\n",
        "    n = A.shape[1]  # n adalah nomor kolom di A\n",
        "\n",
        "    B = np.copy(A).astype('float64')\n",
        "\n",
        "    for j in range(n):\n",
        "        B[k][j] *= scale\n",
        "\n",
        "    return B\n",
        "\n",
        "def RowAdd(A,k,l,scale):\n",
        "# =============================================================================\n",
        "#     A adalah sebuah NumPy array.  RowAdd akan menghasilkan duplicate dari\n",
        "#     array dengan baris k akan di kali dengan 'scale' bukan 0. lalu nilai\n",
        "#     baris l akan di tambah dengan nilai baris k yang sudah dikalikan\n",
        "# =============================================================================\n",
        "    m = A.shape[0]  # m adalah nomor baris di A\n",
        "    n = A.shape[1]  # n adalah nomor kolom di A\n",
        "\n",
        "    B = np.copy(A).astype('float64')\n",
        "\n",
        "    for j in range(n):\n",
        "        B[l][j] += B[k][j]*scale\n",
        "\n",
        "    return B"
      ]
    },
    {
      "cell_type": "code",
      "execution_count": null,
      "metadata": {
        "colab": {
          "base_uri": "https://localhost:8080/"
        },
        "id": "4YIoDkhK6ee1",
        "outputId": "75a183fd-8ec3-436e-bd27-28f8cb3820f6"
      },
      "outputs": [
        {
          "name": "stdout",
          "output_type": "stream",
          "text": [
            "[[1 2 2 4]\n",
            " [1 1 1 3]\n",
            " [0 0 1 2]\n",
            " [2 1 4 1]]\n",
            "[[1 0 0 0]\n",
            " [0 1 0 0]\n",
            " [0 0 1 0]\n",
            " [0 0 0 1]]\n"
          ]
        }
      ],
      "source": [
        "import numpy as np\n",
        "A = np.array([[1,2,2,4],[1,1,1,3],[0,0,1,2],[2,1,4,1]])\n",
        "B = np.array([[1,0,0,0],[0,1,0,0],[0,0,1,0],[0,0,0,1]])\n",
        "\n",
        "print(A)\n",
        "print(B)"
      ]
    },
    {
      "cell_type": "code",
      "execution_count": null,
      "metadata": {
        "colab": {
          "base_uri": "https://localhost:8080/"
        },
        "id": "j_ZvGrdB7I1p",
        "outputId": "832f7a99-cc89-4866-b349-e37a1506faf9"
      },
      "outputs": [
        {
          "name": "stdout",
          "output_type": "stream",
          "text": [
            "[[1 2 2 4 1 0 0 0]\n",
            " [0 1 1 3 0 1 0 0]\n",
            " [0 0 1 2 0 0 1 0]\n",
            " [2 1 4 1 0 0 0 1]]\n"
          ]
        }
      ],
      "source": [
        "C = np.array([[1,2,2,4,1,0,0,0],[0,1,1,3,0,1,0,0],[0,0,1,2,0,0,1,0],[2,1,4,1,0,0,0,1]])\n",
        "print(C)"
      ]
    },
    {
      "cell_type": "code",
      "execution_count": null,
      "metadata": {
        "colab": {
          "base_uri": "https://localhost:8080/"
        },
        "id": "axMjFsSFA8Q1",
        "outputId": "12da6499-0d04-47a1-eb3c-dfd9bdd0a329"
      },
      "outputs": [
        {
          "name": "stdout",
          "output_type": "stream",
          "text": [
            "[[ 1.  2.  2.  4.  1.  0.  0.  0.]\n",
            " [ 0.  1.  1.  3.  0.  1.  0.  0.]\n",
            " [ 0.  0.  1.  2.  0.  0.  1.  0.]\n",
            " [ 0. -3.  0. -7. -2.  0.  0.  1.]]\n"
          ]
        }
      ],
      "source": [
        "C1 = RowAdd(C,0,3,-2)\n",
        "print(C1)"
      ]
    },
    {
      "cell_type": "code",
      "execution_count": null,
      "metadata": {
        "colab": {
          "base_uri": "https://localhost:8080/"
        },
        "id": "WOa0g9MPBOdd",
        "outputId": "998bd61a-2560-4e5d-fa74-ad10e4000e91"
      },
      "outputs": [
        {
          "name": "stdout",
          "output_type": "stream",
          "text": [
            "[[ 1.  0.  0. -2.  1. -2.  0.  0.]\n",
            " [ 0.  1.  1.  3.  0.  1.  0.  0.]\n",
            " [ 0.  0.  1.  2.  0.  0.  1.  0.]\n",
            " [ 0. -3.  0. -7. -2.  0.  0.  1.]]\n"
          ]
        }
      ],
      "source": [
        "C2 = RowAdd(C1,1,0,-2)\n",
        "print(C2)"
      ]
    },
    {
      "cell_type": "code",
      "execution_count": null,
      "metadata": {
        "colab": {
          "base_uri": "https://localhost:8080/"
        },
        "id": "hMHe9-ZYBe60",
        "outputId": "1d442027-2fd7-49b6-c52e-d38d34fd698f"
      },
      "outputs": [
        {
          "name": "stdout",
          "output_type": "stream",
          "text": [
            "[[ 1.  0.  0. -2.  1. -2.  0.  0.]\n",
            " [ 0.  1.  1.  3.  0.  1.  0.  0.]\n",
            " [ 0.  0.  1.  2.  0.  0.  1.  0.]\n",
            " [ 0.  0.  3.  2. -2.  3.  0.  1.]]\n"
          ]
        }
      ],
      "source": [
        "C3 = RowAdd(C2,1,3,3)\n",
        "print(C3)"
      ]
    },
    {
      "cell_type": "code",
      "execution_count": null,
      "metadata": {
        "colab": {
          "base_uri": "https://localhost:8080/"
        },
        "id": "WXJOQOCPBwvZ",
        "outputId": "2abe2197-d602-4cd7-afb9-4f1475b864ca"
      },
      "outputs": [
        {
          "name": "stdout",
          "output_type": "stream",
          "text": [
            "[[ 1.  0.  0. -2.  1. -2.  0.  0.]\n",
            " [ 0.  1.  0.  1.  0.  1. -1.  0.]\n",
            " [ 0.  0.  1.  2.  0.  0.  1.  0.]\n",
            " [ 0.  0.  3.  2. -2.  3.  0.  1.]]\n"
          ]
        }
      ],
      "source": [
        "C4 = RowAdd(C3,2,1,-1)\n",
        "print(C4)"
      ]
    },
    {
      "cell_type": "code",
      "execution_count": null,
      "metadata": {
        "colab": {
          "base_uri": "https://localhost:8080/"
        },
        "id": "yNm_NPRKDyHZ",
        "outputId": "0dd47aa1-eacf-404c-c53e-ecbaf161a108"
      },
      "outputs": [
        {
          "name": "stdout",
          "output_type": "stream",
          "text": [
            "[[ 1.  0.  0. -2.  1. -2.  0.  0.]\n",
            " [ 0.  1.  0.  1.  0.  1. -1.  0.]\n",
            " [ 0.  0.  1.  2.  0.  0.  1.  0.]\n",
            " [ 0.  0.  0. -4. -2.  3. -3.  1.]]\n"
          ]
        }
      ],
      "source": [
        "C5= RowAdd(C4,2,3,-3)\n",
        "print(C5)"
      ]
    },
    {
      "cell_type": "code",
      "execution_count": null,
      "metadata": {
        "colab": {
          "base_uri": "https://localhost:8080/"
        },
        "id": "1BrffcXfIdw_",
        "outputId": "57d4da7b-229e-457a-b11f-9edbaca078c3"
      },
      "outputs": [
        {
          "name": "stdout",
          "output_type": "stream",
          "text": [
            "[[ 1.    0.    0.   -2.    1.   -2.    0.    0.  ]\n",
            " [ 0.    1.    0.    1.    0.    1.   -1.    0.  ]\n",
            " [ 0.    0.    1.    2.    0.    0.    1.    0.  ]\n",
            " [-0.   -0.   -0.    1.    0.5  -0.75  0.75 -0.25]]\n"
          ]
        }
      ],
      "source": [
        "C6 = RowScale(C5,3,-0.25)\n",
        "print(C6)"
      ]
    },
    {
      "cell_type": "code",
      "execution_count": null,
      "metadata": {
        "colab": {
          "base_uri": "https://localhost:8080/"
        },
        "id": "JaCGwX47JFkh",
        "outputId": "6bc253cc-b386-487a-93f1-414a8f09f1c1"
      },
      "outputs": [
        {
          "name": "stdout",
          "output_type": "stream",
          "text": [
            "[[ 1.    0.    0.    0.    2.   -3.5   1.5  -0.5 ]\n",
            " [ 0.    1.    0.    1.    0.    1.   -1.    0.  ]\n",
            " [ 0.    0.    1.    2.    0.    0.    1.    0.  ]\n",
            " [-0.   -0.   -0.    1.    0.5  -0.75  0.75 -0.25]]\n"
          ]
        }
      ],
      "source": [
        "C7= RowAdd(C6,3,0,2)\n",
        "print(C7)"
      ]
    },
    {
      "cell_type": "code",
      "execution_count": null,
      "metadata": {
        "colab": {
          "base_uri": "https://localhost:8080/"
        },
        "id": "EqVvASygJd_w",
        "outputId": "9d860be6-c7bc-4565-ce5b-050a88ac5a69"
      },
      "outputs": [
        {
          "name": "stdout",
          "output_type": "stream",
          "text": [
            "[[ 1.    0.    0.    0.    2.   -3.5   1.5  -0.5 ]\n",
            " [ 0.    1.    0.    0.   -0.5   1.75 -1.75  0.25]\n",
            " [ 0.    0.    1.    2.    0.    0.    1.    0.  ]\n",
            " [-0.   -0.   -0.    1.    0.5  -0.75  0.75 -0.25]]\n"
          ]
        }
      ],
      "source": [
        "C8= RowAdd(C7,3,1,-1)\n",
        "print(C8)"
      ]
    },
    {
      "cell_type": "code",
      "execution_count": null,
      "metadata": {
        "colab": {
          "base_uri": "https://localhost:8080/"
        },
        "id": "UIlnXvUJJyZM",
        "outputId": "ba93a0e3-5c7f-41ed-800e-422d82d1092e"
      },
      "outputs": [
        {
          "name": "stdout",
          "output_type": "stream",
          "text": [
            "[[ 1.    0.    0.    0.    2.   -3.5   1.5  -0.5 ]\n",
            " [ 0.    1.    0.    0.   -0.5   1.75 -1.75  0.25]\n",
            " [ 0.    0.    1.    0.   -1.    1.5  -0.5   0.5 ]\n",
            " [-0.   -0.   -0.    1.    0.5  -0.75  0.75 -0.25]]\n"
          ]
        }
      ],
      "source": [
        "C9= RowAdd(C8,3,2,-2)\n",
        "print(C9)"
      ]
    },
    {
      "cell_type": "markdown",
      "metadata": {
        "id": "zZJhdgkoKEre"
      },
      "source": [
        "maka $A^{-1}$\n",
        "\n",
        "\\begin{bmatrix}\n",
        "2 & -3.5 & 1.5 & -0.5\\\\\n",
        "-0.5 & 1.75 & -1.75 &0.25\\\\\n",
        "-1 & 1.5 & -0.5 & 0.5\\\\\n",
        "0.5 & -0.75 & 0.75 & -0.25\n",
        "\\end{bmatrix}"
      ]
    },
    {
      "cell_type": "code",
      "execution_count": null,
      "metadata": {
        "colab": {
          "base_uri": "https://localhost:8080/"
        },
        "id": "H9zgSSu5MwZX",
        "outputId": "4070a78f-603b-44e3-dfdc-cf75dfe94765"
      },
      "outputs": [
        {
          "name": "stdout",
          "output_type": "stream",
          "text": [
            "[[-19.5 ]\n",
            " [  1.25]\n",
            " [ 11.5 ]\n",
            " [ -2.25]]\n"
          ]
        }
      ],
      "source": [
        "C10=np.array([[2,-3.5,1.5,-0.5],[-0.5,1.75,-1.75,0.25],[-1,1.5,-0.5,0.5],[0.5,-0.75,0.75,-0.25]])\n",
        "D = np.array([[-3],[6],[7],[6]])\n",
        "x = np.dot(C10,D)\n",
        "print(x)"
      ]
    }
  ],
  "metadata": {
    "colab": {
      "provenance": []
    },
    "kernelspec": {
      "display_name": "Python 3",
      "name": "python3"
    },
    "language_info": {
      "name": "python"
    }
  },
  "nbformat": 4,
  "nbformat_minor": 0
}
