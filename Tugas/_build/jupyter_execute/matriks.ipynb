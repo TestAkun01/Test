{
 "cells": [
  {
   "cell_type": "markdown",
   "metadata": {
    "id": "NapQk0QgT2BI"
   },
   "source": [
    "# matriks\n",
    "matriks merupakan bilangan yang terdiri dari baris dan kolom yaitu berupa bilangan real atau kompleks sehingga membentuk bilangan persegi atau persegi panjang.\n",
    "\n",
    "Baris: Susunan bilangan-bilangan yang mendatar (horizontal).\n",
    "\n",
    "\n",
    "Kolom: Susunan bilangan-bilangan yang tegak (vertikal).\n",
    "\n",
    "\n",
    "Elemen: Bilangan-bilangan yang menyusun matriks.\n",
    "\n",
    "\n",
    "Ordo: Pasangan bilangan yang menyatakan jumlah baris dan kolom matriks. Contohnya, matriks 2x3 memiliki ordo 2x3 karena memiliki 2 baris dan 3 kolom.\n",
    "\n",
    "menggunakan pustaka numpy untuk bekerja dengan matriks agar menampilkan matriks dengan format yang lebih rapi."
   ]
  },
  {
   "cell_type": "code",
   "execution_count": 1,
   "metadata": {
    "colab": {
     "base_uri": "https://localhost:8080/"
    },
    "id": "mUc6B6Iz7Ogg",
    "outputId": "fa66cbe3-d83c-4d61-bc03-75065ce613f5"
   },
   "outputs": [
    {
     "name": "stdout",
     "output_type": "stream",
     "text": [
      "[[1 3 5]\n",
      " [2 4 5]\n",
      " [3 5 6]] \n",
      "\n",
      "[[7 9 5]\n",
      " [3 8 5]\n",
      " [1 9 6]] \n",
      "\n",
      "[[1 4 6]\n",
      " [4 5 1]] \n",
      "\n",
      "[[3 4 6]\n",
      " [7 3 1]\n",
      " [1 4 9]] \n",
      "\n"
     ]
    }
   ],
   "source": [
    "import numpy as np\n",
    "A =np.array([[1,3,5],[2,4,5],[3,5,6]])\n",
    "B =np.array([[7,9,5],[3,8,5],[1,9,6]])\n",
    "C =np.array([[1,4,6],[4,5,1]])\n",
    "D =np.array([[3,4,6],[7,3,1],[1,4,9]])\n",
    "\n",
    "print(A,\"\\n\")\n",
    "print(B,\"\\n\")\n",
    "print(C,\"\\n\")\n",
    "print(D,\"\\n\")\n"
   ]
  },
  {
   "cell_type": "markdown",
   "metadata": {
    "id": "t5TryhjZY_gw"
   },
   "source": [
    "## Operasi Matriks\n",
    "Ada beberapa operasi yang dapat dilakukan pada matriks, di antaranya:\n",
    "\n",
    "-Penjumlahan dan pengurangan: Operasi ini hanya dapat dilakukan pada matriks yang memiliki ordo yang sama.\n",
    "\n",
    "\n",
    "-Perkalian matriks: Operasi ini hanya dapat dilakukan pada matriks yang memiliki dimensi yang kompatibel.\n",
    "\n",
    "\n",
    "-Transpos: Operasi ini menukar baris dan kolom matriks.\n",
    "\n",
    "\n",
    "-Invers: Matriks yang mengalikan matriks lain menghasilkan matriks identitas."
   ]
  },
  {
   "cell_type": "code",
   "execution_count": 2,
   "metadata": {
    "colab": {
     "base_uri": "https://localhost:8080/"
    },
    "id": "YA91vKueBDjk",
    "outputId": "044e714c-bcaf-45b9-f08c-4793f65caf8d"
   },
   "outputs": [
    {
     "name": "stdout",
     "output_type": "stream",
     "text": [
      "[[8 0 5]\n",
      " [7 7 2]\n",
      " [0 3 3]]\n"
     ]
    }
   ],
   "source": [
    "# untuk membuat matriks secara random anda bisa menggunakan fungsi\n",
    "# np.random.randit\n",
    "E = np.random.randint(10,size=(3,3))\n",
    "print(E)"
   ]
  },
  {
   "cell_type": "markdown",
   "metadata": {
    "id": "4LDFtrFIaUqZ"
   },
   "source": [
    "## penjumlahan\n",
    "adapun operasi penjumlahan pada matriks memiliki syarat yakni harus mempunyai ordo yang sama, jumlah baris dan kolom yang sama\n",
    "\n",
    "adapun sifat-sifat penjumlahan matriks\n",
    " Sifat Komutatif\n",
    "\n",
    "1. Sifat komutatif menyatakan bahwa urutan penjumlahan matriks tidak mengubah hasilnya.\n",
    "\n",
    "dengan ketentuan A + B = B + A\n",
    "\n",
    "2.  Sifat Asosiatif\n",
    "\n",
    "Sifat asosiatif menyatakan bahwa cara pengelompokan penjumlahan matriks tidak mengubah hasilnya.\n",
    "\n",
    "dengan ketentuan (A + B) + C = A + (B + C)\n",
    "\n",
    "3. Sifat Elemen Netral\n",
    "\n",
    "Sifat elemen netral menyatakan bahwa penjumlahan matriks dengan matriks nol menghasilkan matriks itu sendiri.\n",
    "\n",
    "A + O = O + A = A\n",
    "\n",
    "4.Sifat Elemen Invers\n",
    "\n",
    "Sifat elemen invers menyatakan bahwa untuk setiap matriks A, terdapat matriks -A yang disebut elemen inversnya, sehingga penjumlahan keduanya menghasilkan matriks nol.\n",
    "\n",
    "A + (-A) = O\n"
   ]
  },
  {
   "cell_type": "code",
   "execution_count": 3,
   "metadata": {
    "colab": {
     "base_uri": "https://localhost:8080/"
    },
    "id": "f1OvDOzQcg7b",
    "outputId": "b4082ba8-a1c5-4382-c146-b7a355c7e60c"
   },
   "outputs": [
    {
     "name": "stdout",
     "output_type": "stream",
     "text": [
      "[[1 3 5]\n",
      " [2 4 5]\n",
      " [3 5 6]]\n",
      "[[7 9 5]\n",
      " [3 8 5]\n",
      " [1 9 6]]\n",
      "[[ 8 12 10]\n",
      " [ 5 12 10]\n",
      " [ 4 14 12]]\n"
     ]
    }
   ],
   "source": [
    "# contoh penjumlahan matriks\n",
    "M = A + B\n",
    "print(A)\n",
    "print(B)\n",
    "print(M)"
   ]
  },
  {
   "cell_type": "markdown",
   "metadata": {
    "id": "Nb9k4Fp9dnM2"
   },
   "source": [
    "## pengurangan\n",
    "untuk pengurangan pada matriks memiliki konsep yang sama seperti penjumlahan yakni harus memiliki ordo yang sama akan tetapi oprasi yang berjalan tetap pengurangan\n",
    "\n",
    "contoh"
   ]
  },
  {
   "cell_type": "code",
   "execution_count": 4,
   "metadata": {
    "colab": {
     "base_uri": "https://localhost:8080/"
    },
    "id": "rZxXWIkOeGTu",
    "outputId": "a9d52192-2a97-4886-85dd-3238085aebce"
   },
   "outputs": [
    {
     "name": "stdout",
     "output_type": "stream",
     "text": [
      "[[1 3 5]\n",
      " [2 4 5]\n",
      " [3 5 6]]\n",
      "[[7 9 5]\n",
      " [3 8 5]\n",
      " [1 9 6]]\n",
      "[[-6 -6  0]\n",
      " [-1 -4  0]\n",
      " [ 2 -4  0]]\n"
     ]
    }
   ],
   "source": [
    "# penguraangan\n",
    "N = A - B\n",
    "print(A)\n",
    "print(B)\n",
    "print(N)"
   ]
  },
  {
   "cell_type": "markdown",
   "metadata": {
    "id": "ir0brv2BeovC"
   },
   "source": [
    "## perkalian matriks\n",
    "\n",
    "Perkalian matriks adalah operasi matematika yang menggabungkan dua matriks menjadi satu matriks baru. berbeda dari penjumlahan dan pengurangan Perkalian matriks hanya dapat dilakukan pada dua matriks yang memiliki dimensi yang kompatibel.\n",
    "\n",
    "Sifat-sifat Perkalian Matriks\n",
    "\n",
    "Perkalian matriks memiliki beberapa sifat, di antaranya:\n",
    "\n",
    "Sifat Asosiatif:\n",
    "(A * B) * C = A * (B * C)\n",
    "\n",
    "Sifat Distributif terhadap Penjumlahan:\n",
    "A * (B + C) = A * B + A * C\n",
    "\n",
    "Sifat Distributif terhadap Perkalian Skalar:\n",
    "k * (A * B) = (k * A) * B = A * (k * B)\n",
    "\n",
    "Sifat Elemen Netral:\n",
    "A * I = I * A = A"
   ]
  },
  {
   "cell_type": "code",
   "execution_count": 5,
   "metadata": {
    "colab": {
     "base_uri": "https://localhost:8080/"
    },
    "id": "QxxKJeFhBhkd",
    "outputId": "97f540ae-21a8-4ba1-c0bf-be9d09f2c069"
   },
   "outputs": [
    {
     "name": "stdout",
     "output_type": "stream",
     "text": [
      "[[ 6 18 30]\n",
      " [12 24 30]\n",
      " [18 30 36]] \n",
      " [[ 6 18 30]\n",
      " [12 24 30]\n",
      " [18 30 36]]\n"
     ]
    }
   ],
   "source": [
    "#contoh perkalian dengan sifat distributif terhadap penjumlahan\n",
    "c=2\n",
    "d=4\n",
    "G = (c+d)*A\n",
    "H = (c*A)+(d*A)\n",
    "print(G,\"\\n\",H)"
   ]
  },
  {
   "cell_type": "code",
   "execution_count": 6,
   "metadata": {
    "colab": {
     "base_uri": "https://localhost:8080/"
    },
    "id": "wTp03PmuGTRk",
    "outputId": "3e9ce52f-3598-411f-ceac-888340ddb175"
   },
   "outputs": [
    {
     "name": "stdout",
     "output_type": "stream",
     "text": [
      "()\n"
     ]
    }
   ],
   "source": [
    "I = C.shape[3:2]\n",
    "print(I)"
   ]
  },
  {
   "cell_type": "markdown",
   "metadata": {
    "id": "aqzlQBpejfXf"
   },
   "source": [
    "## Transpos Matriks\n",
    "Matriks transpos adalah matriks baru yang diperoleh dengan menukar baris menjadi kolom dan sebaliknya."
   ]
  },
  {
   "cell_type": "code",
   "execution_count": 7,
   "metadata": {
    "colab": {
     "base_uri": "https://localhost:8080/"
    },
    "id": "Ryv6C5NNjq_X",
    "outputId": "5fffb8cb-8d3a-42a4-b7af-b6f21bc8c2d6"
   },
   "outputs": [
    {
     "name": "stdout",
     "output_type": "stream",
     "text": [
      "[[1 3 5]\n",
      " [2 4 5]\n",
      " [3 5 6]]\n",
      "[[1 2 3]\n",
      " [3 4 5]\n",
      " [5 5 6]]\n"
     ]
    }
   ],
   "source": [
    "Q = A.transpose()\n",
    "print(A)\n",
    "print(Q)"
   ]
  },
  {
   "cell_type": "code",
   "execution_count": 8,
   "metadata": {
    "colab": {
     "base_uri": "https://localhost:8080/"
    },
    "id": "Re5YuJ1NO9u8",
    "outputId": "62cf3748-4ecd-4482-e0fa-8be48931d235"
   },
   "outputs": [
    {
     "name": "stdout",
     "output_type": "stream",
     "text": [
      "[[1 3 5]\n",
      " [2 4 5]\n",
      " [3 5 6]] \n",
      " [[1 2 3]\n",
      " [3 4 5]\n",
      " [5 5 6]] \n",
      " [[ 1  6 15]\n",
      " [ 6 16 25]\n",
      " [15 25 36]]\n",
      "[[7 3 1]\n",
      " [9 8 9]\n",
      " [5 5 6]]\n",
      "[[1 4]\n",
      " [4 5]\n",
      " [6 1]]\n",
      "[[3 7 1]\n",
      " [4 3 4]\n",
      " [6 1 9]]\n"
     ]
    }
   ],
   "source": [
    "A_T = A.transpose()\n",
    "B_T = B.transpose()\n",
    "C_T = C.transpose()\n",
    "D_T = D.transpose()\n",
    "K= A*A_T\n",
    "L= A-A_T\n",
    "print(A,\"\\n\",A_T,\"\\n\",K)\n",
    "print(B_T)\n",
    "print(C_T)\n",
    "print(D_T)"
   ]
  },
  {
   "cell_type": "code",
   "execution_count": 9,
   "metadata": {
    "colab": {
     "base_uri": "https://localhost:8080/"
    },
    "id": "YqFrDEh7TrfT",
    "outputId": "55db0155-33b9-439c-cb96-f2a21ad339c9"
   },
   "outputs": [
    {
     "name": "stdout",
     "output_type": "stream",
     "text": [
      "[[ 24  48  60]\n",
      " [ 35  36  10]\n",
      " [  4  56 108]]\n"
     ]
    }
   ],
   "source": [
    "O =(A+B)*D\n",
    "R = O.transpose()\n",
    "print(O)\n"
   ]
  }
 ],
 "metadata": {
  "colab": {
   "provenance": []
  },
  "kernelspec": {
   "display_name": "Python 3",
   "name": "python3"
  },
  "language_info": {
   "codemirror_mode": {
    "name": "ipython",
    "version": 3
   },
   "file_extension": ".py",
   "mimetype": "text/x-python",
   "name": "python",
   "nbconvert_exporter": "python",
   "pygments_lexer": "ipython3",
   "version": "3.10.13"
  }
 },
 "nbformat": 4,
 "nbformat_minor": 0
}